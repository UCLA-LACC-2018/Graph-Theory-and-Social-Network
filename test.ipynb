{
 "cells": [
  {
   "cell_type": "code",
   "execution_count": null,
   "metadata": {},
   "outputs": [],
   "source": [
    "#setting parameters\n",
    "import random\n",
    "import math\n",
    "node1=1;\n",
    "node2=4;\n",
    "#generating the tested graph\n",
    "#the existence of the edge between any two nodes is subjected to an uniform distribution on (0,1)\n",
    "from LACC2018_E import matrix_load,print_degrees,shortest_path,detect_cycle"
   ]
  },
  {
   "cell_type": "code",
   "execution_count": null,
   "metadata": {},
   "outputs": [],
   "source": [
    "pip install matplotlib"
   ]
  },
  {
   "cell_type": "code",
   "execution_count": null,
   "metadata": {},
   "outputs": [],
   "source": [
    "import matplotlib.pyplot as plt\n",
    "mat=matrix_load(\"matrix3.txt\")\n",
    "N=len(mat)\n",
    "a=[0]*N\n",
    "b=[0]*N\n",
    "for x in range(N):\n",
    "    a[x]=random.uniform(0,1)\n",
    "    b[x]=random.uniform(0,1)\n",
    "print_degrees(mat)"
   ]
  },
  {
   "cell_type": "code",
   "execution_count": null,
   "metadata": {},
   "outputs": [],
   "source": [
    "import matplotlib.pyplot as plt\n",
    "plt.scatter(a,b,label=\"nodes\",color=\"green\",marker=\"*\",s=30)\n",
    "for x in range(N):\n",
    "    for y in range(x+1,N):\n",
    "        if mat[x][y]==1:\n",
    "            plt.plot([a[x],a[y]],[b[x],b[y]],color=\"grey\")\n",
    "plt.scatter(a[node1],b[node1],label=\"nodes\",color=\"blue\",marker=\"o\",s=30)\n",
    "plt.scatter(a[node2],b[node2],label=\"nodes\",color=\"blue\",marker=\"o\",s=30)\n",
    "path=shortest_path(mat,node1,node2)\n",
    "if path!=[]:\n",
    "    for t in range(len(path)-1):\n",
    "        x=path[t]\n",
    "        y=path[t+1]\n",
    "        if mat[x][y]==1:\n",
    "            plt.plot([a[x],a[y]],[b[x],b[y]],color=\"red\")"
   ]
  },
  {
   "cell_type": "code",
   "execution_count": null,
   "metadata": {},
   "outputs": [],
   "source": [
    "import matplotlib.pyplot as plt\n",
    "plt.scatter(a,b,label=\"nodes\",color=\"green\",marker=\"*\",s=30)\n",
    "for x in range(N):\n",
    "    for y in range(x+1,N):\n",
    "        if mat[x][y]==1:\n",
    "            plt.plot([a[x],a[y]],[b[x],b[y]],color=\"grey\")\n",
    "cycle=detect_cycle(mat)\n",
    "if cycle!=[]:\n",
    "    for t in range(len(cycle)-1):\n",
    "        x=cycle[t]\n",
    "        y=cycle[t+1]\n",
    "        if mat[x][y]==1:\n",
    "            plt.plot([a[x],a[y]],[b[x],b[y]],color=\"blue\")    \n",
    "    x=cycle[len(cycle)-1]\n",
    "    y=cycle[0]\n",
    "    if mat[x][y]==1:\n",
    "        plt.plot([a[x],a[y]],[b[x],b[y]],color=\"blue\")"
   ]
  },
  {
   "cell_type": "code",
   "execution_count": null,
   "metadata": {},
   "outputs": [],
   "source": []
  }
 ],
 "metadata": {
  "kernelspec": {
   "display_name": "Python 3",
   "language": "python",
   "name": "python3"
  },
  "language_info": {
   "codemirror_mode": {
    "name": "ipython",
    "version": 3
   },
   "file_extension": ".py",
   "mimetype": "text/x-python",
   "name": "python",
   "nbconvert_exporter": "python",
   "pygments_lexer": "ipython3",
   "version": "3.5.4"
  }
 },
 "nbformat": 4,
 "nbformat_minor": 2
}
