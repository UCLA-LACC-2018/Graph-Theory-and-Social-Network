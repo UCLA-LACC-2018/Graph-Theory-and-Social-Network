{
 "cells": [
  {
   "cell_type": "code",
   "execution_count": 8,
   "metadata": {},
   "outputs": [],
   "source": [
    "#setting parameters\n",
    "import random\n",
    "import math\n",
    "node1=1;\n",
    "node2=4;\n",
    "#generating the tested graph\n",
    "#the existence of the edge between any two nodes is subjected to an uniform distribution on (0,1)\n",
    "from LACC2018_E import matrix_load,print_degrees,shortest_path,detect_cycle"
   ]
  },
  {
   "cell_type": "code",
   "execution_count": 9,
   "metadata": {},
   "outputs": [
    {
     "name": "stdout",
     "output_type": "stream",
     "text": [
      "\n",
      "The following command must be run outside of the IPython shell:\n",
      "\n",
      "    $ pip install matplotlib\n",
      "\n",
      "The Python package manager (pip) can only be used from outside of IPython.\n",
      "Please reissue the `pip` command in a separate terminal or command prompt.\n",
      "\n",
      "See the Python documentation for more informations on how to install packages:\n",
      "\n",
      "    https://docs.python.org/3/installing/\n"
     ]
    }
   ],
   "source": [
    "pip install matplotlib"
   ]
  },
  {
   "cell_type": "code",
   "execution_count": 5,
   "metadata": {},
   "outputs": [
    {
     "ename": "AttributeError",
     "evalue": "'builtin_function_or_method' object has no attribute 'filename'",
     "output_type": "error",
     "traceback": [
      "\u001b[0;31m---------------------------------------------------------------------------\u001b[0m",
      "\u001b[0;31mAttributeError\u001b[0m                            Traceback (most recent call last)",
      "\u001b[0;32m<ipython-input-5-5bba29ebc315>\u001b[0m in \u001b[0;36m<module>\u001b[0;34m()\u001b[0m\n\u001b[1;32m      1\u001b[0m \u001b[0;32mimport\u001b[0m \u001b[0mmatplotlib\u001b[0m\u001b[0;34m.\u001b[0m\u001b[0mpyplot\u001b[0m \u001b[0;32mas\u001b[0m \u001b[0mplt\u001b[0m\u001b[0;34m\u001b[0m\u001b[0m\n\u001b[0;32m----> 2\u001b[0;31m \u001b[0mmat\u001b[0m\u001b[0;34m=\u001b[0m\u001b[0mmatrix_load\u001b[0m\u001b[0;34m(\u001b[0m\u001b[0;34m\"matrix3.txt\"\u001b[0m\u001b[0;34m)\u001b[0m\u001b[0;34m\u001b[0m\u001b[0m\n\u001b[0m\u001b[1;32m      3\u001b[0m \u001b[0mN\u001b[0m\u001b[0;34m=\u001b[0m\u001b[0mlen\u001b[0m\u001b[0;34m(\u001b[0m\u001b[0mmat\u001b[0m\u001b[0;34m)\u001b[0m\u001b[0;34m\u001b[0m\u001b[0m\n\u001b[1;32m      4\u001b[0m \u001b[0ma\u001b[0m\u001b[0;34m=\u001b[0m\u001b[0;34m[\u001b[0m\u001b[0;36m0\u001b[0m\u001b[0;34m]\u001b[0m\u001b[0;34m*\u001b[0m\u001b[0mN\u001b[0m\u001b[0;34m\u001b[0m\u001b[0m\n\u001b[1;32m      5\u001b[0m \u001b[0mb\u001b[0m\u001b[0;34m=\u001b[0m\u001b[0;34m[\u001b[0m\u001b[0;36m0\u001b[0m\u001b[0;34m]\u001b[0m\u001b[0;34m*\u001b[0m\u001b[0mN\u001b[0m\u001b[0;34m\u001b[0m\u001b[0m\n",
      "\u001b[0;32m~/library/LACC2018_E.py\u001b[0m in \u001b[0;36mmatrix_load\u001b[0;34m(filename)\u001b[0m\n\u001b[1;32m     36\u001b[0m \u001b[0;31m# (or each column) and print this. Use a nested loop (for or while)\u001b[0m\u001b[0;34m\u001b[0m\u001b[0;34m\u001b[0m\u001b[0m\n\u001b[1;32m     37\u001b[0m \u001b[0;31m#*************************************\u001b[0m\u001b[0;34m\u001b[0m\u001b[0;34m\u001b[0m\u001b[0m\n\u001b[0;32m---> 38\u001b[0;31m         \u001b[0mfile\u001b[0m \u001b[0;34m=\u001b[0m \u001b[0mopen\u001b[0m\u001b[0;34m.\u001b[0m\u001b[0mfilename\u001b[0m\u001b[0;34m(\u001b[0m\u001b[0;34m)\u001b[0m\u001b[0;34m\u001b[0m\u001b[0m\n\u001b[0m\u001b[1;32m     39\u001b[0m         \u001b[0mread_file\u001b[0m \u001b[0;34m=\u001b[0m \u001b[0mfile\u001b[0m\u001b[0;34m.\u001b[0m\u001b[0mreadlines\u001b[0m\u001b[0;34m(\u001b[0m\u001b[0;34m)\u001b[0m\u001b[0;34m\u001b[0m\u001b[0m\n\u001b[1;32m     40\u001b[0m         \u001b[0mlength\u001b[0m \u001b[0;34m=\u001b[0m \u001b[0mlen\u001b[0m\u001b[0;34m(\u001b[0m\u001b[0mread_file\u001b[0m\u001b[0;34m)\u001b[0m\u001b[0;34m\u001b[0m\u001b[0m\n",
      "\u001b[0;31mAttributeError\u001b[0m: 'builtin_function_or_method' object has no attribute 'filename'"
     ]
    }
   ],
   "source": [
    "#setting parameters\n",
    "import random\n",
    "import math\n",
    "node1=1;\n",
    "node2=4;\n",
    "#generating the tested graph\n",
    "#the existence of the edge between any two nodes is subjected to an uniform distribution on (0,1)\n",
    "from LACC2018_E import matrix_load,print_degrees,shortest_path,detect_cycle"
   ]
  },
  {
   "cell_type": "code",
   "execution_count": null,
   "metadata": {},
   "outputs": [],
   "source": [
    "import matplotlib.pyplot as plt\n",
    "plt.scatter(a,b,label=\"nodes\",color=\"green\",marker=\"*\",s=30)\n",
    "for x in range(N):\n",
    "    for y in range(x+1,N):\n",
    "        if mat[x][y]==1:\n",
    "            plt.plot([a[x],a[y]],[b[x],b[y]],color=\"grey\")\n",
    "plt.scatter(a[node1],b[node1],label=\"nodes\",color=\"blue\",marker=\"o\",s=30)\n",
    "plt.scatter(a[node2],b[node2],label=\"nodes\",color=\"blue\",marker=\"o\",s=30)\n",
    "path=shortest_path(mat,node1,node2)\n",
    "if path!=[]:\n",
    "    for t in range(len(path)-1):\n",
    "        x=path[t]\n",
    "        y=path[t+1]\n",
    "        if mat[x][y]==1:\n",
    "            plt.plot([a[x],a[y]],[b[x],b[y]],color=\"red\")"
   ]
  },
  {
   "cell_type": "code",
   "execution_count": 5,
   "metadata": {},
   "outputs": [
    {
     "name": "stdout",
     "output_type": "stream",
     "text": [
      "Find a cycle consisting of the following edges:\n",
      "\n",
      "( 1 , 2 )\n",
      "\n",
      "( 0 , 1 )\n",
      "\n",
      "( 2 , 4 )\n",
      "\n",
      "( 4 , 3 )\n",
      "\n",
      "( 3 , 0 )\n",
      "\n"
     ]
    },
    {
     "data": {
      "image/png": "[encoded data removed]",
      "text/plain": [
       "<Figure size 432x288 with 1 Axes>"
      ]
     },
     "metadata": {},
     "output_type": "display_data"
    }
   ],
   "source": [
    "import matplotlib.pyplot as plt\n",
    "plt.scatter(a,b,label=\"nodes\",color=\"green\",marker=\"*\",s=30)\n",
    "for x in range(N):\n",
    "    for y in range(x+1,N):\n",
    "        if mat[x][y]==1:\n",
    "            plt.plot([a[x],a[y]],[b[x],b[y]],color=\"grey\")\n",
    "cycle=detect_cycle(mat)\n",
    "if cycle!=[]:\n",
    "    for t in range(len(cycle)-1):\n",
    "        x=cycle[t]\n",
    "        y=cycle[t+1]\n",
    "        if mat[x][y]==1:\n",
    "            plt.plot([a[x],a[y]],[b[x],b[y]],color=\"blue\")    \n",
    "    x=cycle[len(cycle)-1]\n",
    "    y=cycle[0]\n",
    "    if mat[x][y]==1:\n",
    "        plt.plot([a[x],a[y]],[b[x],b[y]],color=\"blue\")"
   ]
  }
 ],
 "metadata": {
  "kernelspec": {
   "display_name": "Python 3",
   "language": "python",
   "name": "python3"
  },
  "language_info": {
   "codemirror_mode": {
    "name": "ipython",
    "version": 3
   },
   "file_extension": ".py",
   "mimetype": "text/x-python",
   "name": "python",
   "nbconvert_exporter": "python",
   "pygments_lexer": "ipython3",
   "version": "3.5.4"
  }
 },
 "nbformat": 4,
 "nbformat_minor": 2
}
