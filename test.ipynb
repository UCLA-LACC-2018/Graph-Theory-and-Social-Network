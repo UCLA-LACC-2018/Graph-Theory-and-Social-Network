{
 "cells": [
  {
   "cell_type": "code",
   "execution_count": 1,
   "metadata": {},
   "outputs": [],
   "source": [
    "#setting parameters\n",
    "import random\n",
    "import math\n",
    "node1=0;\n",
    "node2=4;\n",
    "#generating the tested graph\n",
    "#the existence of the edge between any two nodes is subjected to an uniform distribution on (0,1)\n",
    "from LACC2018_E import matrix_load,print_degrees,shortest_path,detect_cycle"
   ]
  },
  {
   "cell_type": "code",
   "execution_count": 2,
   "metadata": {},
   "outputs": [
    {
     "name": "stdout",
     "output_type": "stream",
     "text": [
      "\n",
      "The following command must be run outside of the IPython shell:\n",
      "\n",
      "    $ pip install matplotlib\n",
      "\n",
      "The Python package manager (pip) can only be used from outside of IPython.\n",
      "Please reissue the `pip` command in a separate terminal or command prompt.\n",
      "\n",
      "See the Python documentation for more informations on how to install packages:\n",
      "\n",
      "    https://docs.python.org/3/installing/\n"
     ]
    }
   ],
   "source": [
    "pip install matplotlib"
   ]
  },
  {
   "cell_type": "code",
   "execution_count": 3,
   "metadata": {},
   "outputs": [
    {
     "name": "stdout",
     "output_type": "stream",
     "text": [
      "[[0, 1, 0, 1, 0, 0, 0], [1, 0, 1, 0, 0, 0, 1], [0, 1, 0, 0, 0, 0, 0], [1, 0, 0, 0, 1, 1, 0], [0, 0, 0, 1, 0, 0, 0], [0, 0, 0, 1, 0, 0, 0], [0, 1, 0, 0, 0, 0, 0]]\n",
      "\n",
      " Degree of Node  0 :  2  ( 0.2961552798490005 , 0.7614874359176715 )\n",
      "\n",
      " Degree of Node  1 :  3  ( 0.7572196155969919 , 0.79894228389532 )\n",
      "\n",
      " Degree of Node  2 :  1  ( 0.08507414707396954 , 0.8674900420733628 )\n",
      "\n",
      " Degree of Node  3 :  3  ( 0.6511480196024361 , 0.26697599194539334 )\n",
      "\n",
      " Degree of Node  4 :  1  ( 0.17786749639183141 , 0.19385640289445083 )\n",
      "\n",
      " Degree of Node  5 :  1  ( 0.10814792735732981 , 0.5745283983784463 )\n",
      "\n",
      " Degree of Node  6 :  1  ( 0.3306256117117715 , 0.4285527340671911 )\n"
     ]
    }
   ],
   "source": [
    "import matplotlib.pyplot as plt\n",
    "mat=matrix_load(\"matrix2.txt\")\n",
    "print (mat)\n",
    "\n",
    "N=len(mat)\n",
    "a=[0]*N\n",
    "b=[0]*N\n",
    "\n",
    "ax=[]\n",
    "by=[]\n",
    "for x in range(N):\n",
    "    a[x]=random.uniform(0,1)\n",
    "    b[x]=random.uniform(0,1)\n",
    "    ax.append(a[x])\n",
    "    by.append(b[x])\n",
    "   \n",
    "#crd = []\n",
    "temp = []\n",
    "#for i in range(N):    \n",
    "    #temp = [a[i],b[i]]\n",
    "    #crd.append(temp)\n",
    "    \n",
    "#print (crd)\n",
    "print_degrees(mat,ax,by)"
   ]
  },
  {
   "cell_type": "code",
   "execution_count": 4,
   "metadata": {},
   "outputs": [
    {
     "name": "stdout",
     "output_type": "stream",
     "text": [
      "N:  7\n",
      "[[0, 1, 0, 1, 0, 0, 0], [1, 0, 1, 0, 0, 0, 1], [0, 1, 0, 0, 0, 0, 0], [1, 0, 0, 0, 1, 1, 0], [0, 0, 0, 1, 0, 0, 0], [0, 0, 0, 1, 0, 0, 0], [0, 1, 0, 0, 0, 0, 0]]\n",
      "next [[1, 0, 1, 0, 0, 0, 1], [1, 0, 0, 0, 1, 1, 0]]\n",
      "nxt [1, 3]\n",
      "\n",
      " x: 1   ///   #N [0, 2, 6]     past: [0]\n",
      "xmat: [1, 0, 1, 0, 0, 0, 1]\n",
      "\n",
      "       mat [0] [0, 1, 0, 1, 0, 0, 0] ##T: [0] pass\n",
      "\n",
      "       mat [2] [0, 1, 0, 0, 0, 0, 0] ##N: [1]\n"
     ]
    },
    {
     "ename": "UnboundLocalError",
     "evalue": "local variable 'nope' referenced before assignment",
     "output_type": "error",
     "traceback": [
      "\u001b[0;31m---------------------------------------------------------------------------\u001b[0m",
      "\u001b[0;31mUnboundLocalError\u001b[0m                         Traceback (most recent call last)",
      "\u001b[0;32m<ipython-input-4-abf2cf7d53b4>\u001b[0m in \u001b[0;36m<module>\u001b[0;34m()\u001b[0m\n\u001b[1;32m     10\u001b[0m \u001b[0mplt\u001b[0m\u001b[0;34m.\u001b[0m\u001b[0mscatter\u001b[0m\u001b[0;34m(\u001b[0m\u001b[0ma\u001b[0m\u001b[0;34m[\u001b[0m\u001b[0mnode2\u001b[0m\u001b[0;34m]\u001b[0m\u001b[0;34m,\u001b[0m\u001b[0mb\u001b[0m\u001b[0;34m[\u001b[0m\u001b[0mnode2\u001b[0m\u001b[0;34m]\u001b[0m\u001b[0;34m,\u001b[0m\u001b[0mlabel\u001b[0m\u001b[0;34m=\u001b[0m\u001b[0;34m\"nodes\"\u001b[0m\u001b[0;34m,\u001b[0m\u001b[0mcolor\u001b[0m\u001b[0;34m=\u001b[0m\u001b[0;34m\"blue\"\u001b[0m\u001b[0;34m,\u001b[0m\u001b[0mmarker\u001b[0m\u001b[0;34m=\u001b[0m\u001b[0;34m\"o\"\u001b[0m\u001b[0;34m,\u001b[0m\u001b[0ms\u001b[0m\u001b[0;34m=\u001b[0m\u001b[0;36m60\u001b[0m\u001b[0;34m)\u001b[0m\u001b[0;34m\u001b[0m\u001b[0m\n\u001b[1;32m     11\u001b[0m \u001b[0;34m\u001b[0m\u001b[0m\n\u001b[0;32m---> 12\u001b[0;31m \u001b[0mpath\u001b[0m\u001b[0;34m=\u001b[0m\u001b[0mshortest_path\u001b[0m\u001b[0;34m(\u001b[0m\u001b[0mmat\u001b[0m\u001b[0;34m,\u001b[0m\u001b[0mnode1\u001b[0m\u001b[0;34m,\u001b[0m\u001b[0mnode2\u001b[0m\u001b[0;34m)\u001b[0m\u001b[0;34m\u001b[0m\u001b[0m\n\u001b[0m\u001b[1;32m     13\u001b[0m \u001b[0;34m\u001b[0m\u001b[0m\n",
      "\u001b[0;32m~/library/LACC2018_E.py\u001b[0m in \u001b[0;36mshortest_path\u001b[0;34m(mat, node1, node2)\u001b[0m\n\u001b[1;32m    199\u001b[0m                         \u001b[0mprint\u001b[0m\u001b[0;34m(\u001b[0m\u001b[0;34m'\\n'\u001b[0m\u001b[0;34m,\u001b[0m\u001b[0;34m'     '\u001b[0m\u001b[0;34m,\u001b[0m\u001b[0;34m'mat'\u001b[0m\u001b[0;34m,\u001b[0m\u001b[0;34m[\u001b[0m\u001b[0my\u001b[0m\u001b[0;34m]\u001b[0m\u001b[0;34m,\u001b[0m \u001b[0mmat\u001b[0m\u001b[0;34m[\u001b[0m\u001b[0my\u001b[0m\u001b[0;34m]\u001b[0m\u001b[0;34m,\u001b[0m \u001b[0;34m'##N:'\u001b[0m\u001b[0;34m,\u001b[0m \u001b[0mnxx\u001b[0m\u001b[0;34m)\u001b[0m\u001b[0;34m\u001b[0m\u001b[0m\n\u001b[1;32m    200\u001b[0m                         \u001b[0;31m###print('past',past)\u001b[0m\u001b[0;34m\u001b[0m\u001b[0;34m\u001b[0m\u001b[0m\n\u001b[0;32m--> 201\u001b[0;31m                         \u001b[0mloop\u001b[0m\u001b[0;34m(\u001b[0m\u001b[0mnxx\u001b[0m\u001b[0;34m)\u001b[0m\u001b[0;34m\u001b[0m\u001b[0m\n\u001b[0m\u001b[1;32m    202\u001b[0m \u001b[0;34m\u001b[0m\u001b[0m\n\u001b[1;32m    203\u001b[0m                         \u001b[0;31m#kms = loop(nxx)\u001b[0m\u001b[0;34m\u001b[0m\u001b[0;34m\u001b[0m\u001b[0m\n",
      "\u001b[0;32m~/library/LACC2018_E.py\u001b[0m in \u001b[0;36mloop\u001b[0;34m(NN)\u001b[0m\n\u001b[1;32m    131\u001b[0m                             \u001b[0;32mfor\u001b[0m \u001b[0mnp\u001b[0m \u001b[0;32min\u001b[0m \u001b[0mrange\u001b[0m\u001b[0;34m(\u001b[0m\u001b[0mnum\u001b[0m\u001b[0;34m)\u001b[0m\u001b[0;34m:\u001b[0m\u001b[0;34m\u001b[0m\u001b[0m\n\u001b[1;32m    132\u001b[0m                                 \u001b[0;32mif\u001b[0m \u001b[0;34m(\u001b[0m\u001b[0mmat\u001b[0m\u001b[0;34m[\u001b[0m\u001b[0mn\u001b[0m\u001b[0;34m]\u001b[0m\u001b[0;34m[\u001b[0m\u001b[0mnp\u001b[0m\u001b[0;34m]\u001b[0m\u001b[0;34m)\u001b[0m \u001b[0;34m==\u001b[0m \u001b[0;36m1\u001b[0m \u001b[0;32mand\u001b[0m \u001b[0mnp\u001b[0m \u001b[0;32mnot\u001b[0m \u001b[0;32min\u001b[0m \u001b[0mpast1\u001b[0m\u001b[0;34m:\u001b[0m\u001b[0;34m\u001b[0m\u001b[0m\n\u001b[0;32m--> 133\u001b[0;31m                                     \u001b[0mnope\u001b[0m\u001b[0;34m.\u001b[0m\u001b[0mappend\u001b[0m\u001b[0;34m(\u001b[0m\u001b[0mnp\u001b[0m\u001b[0;34m)\u001b[0m\u001b[0;34m\u001b[0m\u001b[0m\n\u001b[0m\u001b[1;32m    134\u001b[0m                             \u001b[0mprint\u001b[0m\u001b[0;34m(\u001b[0m\u001b[0;34m'               mat:'\u001b[0m\u001b[0;34m,\u001b[0m\u001b[0;34m[\u001b[0m\u001b[0mn\u001b[0m\u001b[0;34m]\u001b[0m\u001b[0;34m,\u001b[0m \u001b[0mmat\u001b[0m\u001b[0;34m[\u001b[0m\u001b[0mn\u001b[0m\u001b[0;34m]\u001b[0m\u001b[0;34m,\u001b[0m \u001b[0;34m'#N:'\u001b[0m\u001b[0;34m,\u001b[0m \u001b[0mnope\u001b[0m\u001b[0;34m)\u001b[0m\u001b[0;34m\u001b[0m\u001b[0m\n\u001b[1;32m    135\u001b[0m                             \u001b[0mloop\u001b[0m\u001b[0;34m(\u001b[0m\u001b[0mnope\u001b[0m\u001b[0;34m)\u001b[0m\u001b[0;34m\u001b[0m\u001b[0m\n",
      "\u001b[0;31mUnboundLocalError\u001b[0m: local variable 'nope' referenced before assignment"
     ]
    },
    {
     "data": {
      "image/png": "[encoded data removed]",
      "text/plain": [
       "<matplotlib.figure.Figure at 0x7f2581857a58>"
      ]
     },
     "metadata": {},
     "output_type": "display_data"
    }
   ],
   "source": [
    "import matplotlib.pyplot as plt\n",
    "\n",
    "plt.scatter(a,b,label=\"nodes\",color=\"green\",marker=\"*\",s=60)\n",
    "print ('N: ', N)\n",
    "for x in range(N):\n",
    "    for y in range(x+1,N):\n",
    "        if mat[x][y]==1:\n",
    "            plt.plot([a[x],a[y]],[b[x],b[y]],color=\"black\")\n",
    "plt.scatter(a[node1],b[node1],label=\"nodes\",color=\"red\",marker=\"o\",s=60)\n",
    "plt.scatter(a[node2],b[node2],label=\"nodes\",color=\"blue\",marker=\"o\",s=60)\n",
    "\n",
    "path=shortest_path(mat,node1,node2)\n",
    "\n"
   ]
  },
  {
   "cell_type": "code",
   "execution_count": null,
   "metadata": {},
   "outputs": [],
   "source": [
    "#if path!=[]:\n",
    "#    for t in range(len(path)-1):\n",
    "#        x=path[t]\n",
    "#        y=path[t+1]\n",
    "#        if mat[x][y]==1:\n",
    "#            plt.plot([a[x],a[y]],[b[x],b[y]],color=\"red\")"
   ]
  },
  {
   "cell_type": "code",
   "execution_count": null,
   "metadata": {},
   "outputs": [],
   "source": [
    "import matplotlib.pyplot as plt\n",
    "plt.scatter(a,b,label=\"nodes\",color=\"green\",marker=\"*\",s=30)\n",
    "for x in range(N):\n",
    "    for y in range(x+1,N):\n",
    "        if mat[x][y]==1:\n",
    "            plt.plot([a[x],a[y]],[b[x],b[y]],color=\"grey\")\n",
    "cycle=detect_cycle(mat)\n",
    "if cycle!=[]:\n",
    "    for t in range(len(cycle)-1):\n",
    "        x=cycle[t]\n",
    "        y=cycle[t+1]\n",
    "        if mat[x][y]==1:\n",
    "            plt.plot([a[x],a[y]],[b[x],b[y]],color=\"blue\")    \n",
    "    x=cycle[len(cycle)-1]\n",
    "    y=cycle[0]\n",
    "    if mat[x][y]==1:\n",
    "        plt.plot([a[x],a[y]],[b[x],b[y]],color=\"blue\")"
   ]
  },
  {
   "cell_type": "code",
   "execution_count": null,
   "metadata": {},
   "outputs": [],
   "source": []
  },
  {
   "cell_type": "code",
   "execution_count": null,
   "metadata": {},
   "outputs": [],
   "source": []
  },
  {
   "cell_type": "code",
   "execution_count": null,
   "metadata": {},
   "outputs": [],
   "source": []
  }
 ],
 "metadata": {
  "kernelspec": {
   "display_name": "Python 3",
   "language": "python",
   "name": "python3"
  },
  "language_info": {
   "codemirror_mode": {
    "name": "ipython",
    "version": 3
   },
   "file_extension": ".py",
   "mimetype": "text/x-python",
   "name": "python",
   "nbconvert_exporter": "python",
   "pygments_lexer": "ipython3",
   "version": "3.5.4"
  }
 },
 "nbformat": 4,
 "nbformat_minor": 2
}
