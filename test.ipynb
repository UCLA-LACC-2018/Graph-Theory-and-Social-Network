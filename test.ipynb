{
 "cells": [
  {
   "cell_type": "code",
   "execution_count": 1,
   "metadata": {},
   "outputs": [
    {
     "name": "stdout",
     "output_type": "stream",
     "text": [
      "Degree of Node  0 :  3 \n",
      "\n",
      "Degree of Node  1 :  2 \n",
      "\n",
      "Degree of Node  2 :  2 \n",
      "\n",
      "Degree of Node  3 :  3 \n",
      "\n",
      "Degree of Node  4 :  2 \n",
      "\n",
      "The path is: \n",
      "( 3 , 4 ),\n",
      "( 1 , 3 ),\n",
      "Find a cycle consisting of the following edges:\n",
      "\n",
      "( 0 , 1 )\n",
      "\n",
      "( 1 , 3 )\n",
      "\n",
      "( 3 , 0 )\n",
      "\n",
      "Degree of Node  0 :  2 \n",
      "\n",
      "Degree of Node  1 :  3 \n",
      "\n",
      "Degree of Node  2 :  1 \n",
      "\n",
      "Degree of Node  3 :  3 \n",
      "\n",
      "Degree of Node  4 :  1 \n",
      "\n",
      "Degree of Node  5 :  1 \n",
      "\n",
      "Degree of Node  6 :  1 \n",
      "\n",
      "The path is: \n",
      "( 3 , 4 ),\n",
      "( 0 , 3 ),\n",
      "( 1 , 0 ),\n",
      "( 2 , 1 ),\n",
      "No cycle in the graph\n",
      "Degree of Node  0 :  2 \n",
      "\n",
      "Degree of Node  1 :  3 \n",
      "\n",
      "Degree of Node  2 :  2 \n",
      "\n",
      "Degree of Node  3 :  3 \n",
      "\n",
      "Degree of Node  4 :  2 \n",
      "\n",
      "Degree of Node  5 :  1 \n",
      "\n",
      "Degree of Node  6 :  1 \n",
      "\n",
      "The path is: \n",
      "( 3 , 4 ),\n",
      "Find a cycle consisting of the following edges:\n",
      "\n",
      "( 1 , 2 )\n",
      "\n",
      "( 0 , 1 )\n",
      "\n",
      "( 2 , 4 )\n",
      "\n",
      "( 4 , 3 )\n",
      "\n",
      "( 3 , 0 )\n",
      "\n"
     ]
    },
    {
     "data": {
      "text/plain": [
       "1"
      ]
     },
     "execution_count": 1,
     "metadata": {},
     "output_type": "execute_result"
    }
   ],
   "source": [
    "from LACC2018 import matrix_load,print_degrees,shortest_path,detect_cycle\n",
    "mat1=matrix_load(\"matrix.txt\")\n",
    "print_degrees(mat1)\n",
    "shortest_path(mat1,1,4)\n",
    "detect_cycle(mat1)\n",
    "\n",
    "mat2=matrix_load(\"matrix2.txt\")\n",
    "print_degrees(mat2)\n",
    "shortest_path(mat2,2,4)\n",
    "detect_cycle(mat2)\n",
    "\n",
    "mat3=matrix_load(\"matrix3.txt\")\n",
    "print_degrees(mat3)\n",
    "shortest_path(mat3,3,4)\n",
    "detect_cycle(mat3)"
   ]
  },
  {
   "cell_type": "code",
   "execution_count": null,
   "metadata": {},
   "outputs": [],
   "source": []
  }
 ],
 "metadata": {
  "kernelspec": {
   "display_name": "Python 3",
   "language": "python",
   "name": "python3"
  },
  "language_info": {
   "codemirror_mode": {
    "name": "ipython",
    "version": 3
   },
   "file_extension": ".py",
   "mimetype": "text/x-python",
   "name": "python",
   "nbconvert_exporter": "python",
   "pygments_lexer": "ipython3",
   "version": "3.6.5"
  }
 },
 "nbformat": 4,
 "nbformat_minor": 2
}
